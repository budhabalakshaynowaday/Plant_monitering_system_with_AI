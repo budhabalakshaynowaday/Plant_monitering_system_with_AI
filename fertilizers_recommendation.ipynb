{
  "cells": [
    {
      "cell_type": "code",
      "execution_count": 3,
      "id": "5db80868",
      "metadata": {
        "_cell_guid": "b1076dfc-b9ad-4769-8c92-a6c4dae69d19",
        "_uuid": "8f2839f25d086af736a60e9eeb907d3b93b6e0e5",
        "execution": {
          "iopub.execute_input": "2022-06-22T15:13:18.785155Z",
          "iopub.status.busy": "2022-06-22T15:13:18.784388Z",
          "iopub.status.idle": "2022-06-22T15:13:20.877030Z",
          "shell.execute_reply": "2022-06-22T15:13:20.876191Z"
        },
        "papermill": {
          "duration": 2.107099,
          "end_time": "2022-06-22T15:13:20.879658",
          "exception": false,
          "start_time": "2022-06-22T15:13:18.772559",
          "status": "completed"
        },
        "tags": [],
        "id": "5db80868"
      },
      "outputs": [],
      "source": [
        "import os\n",
        "import numpy as np\n",
        "import pandas as pd\n",
        "import matplotlib.pyplot as plt\n",
        "import seaborn as sns\n",
        "import imblearn\n",
        "from imblearn.over_sampling import SMOTE\n",
        "from collections import Counter\n",
        "\n",
        "from sklearn.preprocessing import StandardScaler, LabelEncoder\n",
        "from sklearn.pipeline import make_pipeline\n",
        "from sklearn.model_selection import train_test_split\n",
        "\n",
        "from sklearn.neighbors import  KNeighborsClassifier\n",
        "from sklearn.ensemble import RandomForestClassifier\n",
        "from sklearn.svm import SVC\n",
        "import xgboost\n",
        "from xgboost import XGBClassifier\n",
        "\n",
        "import pickle\n",
        "\n",
        "import warnings\n",
        "warnings.filterwarnings(\"ignore\")\n",
        "\n",
        "%matplotlib inline"
      ]
    },
    {
      "cell_type": "code",
      "execution_count": 5,
      "id": "7d0b85fa",
      "metadata": {
        "execution": {
          "iopub.execute_input": "2022-06-22T15:13:20.900211Z",
          "iopub.status.busy": "2022-06-22T15:13:20.899569Z",
          "iopub.status.idle": "2022-06-22T15:13:20.903791Z",
          "shell.execute_reply": "2022-06-22T15:13:20.902991Z"
        },
        "papermill": {
          "duration": 0.017138,
          "end_time": "2022-06-22T15:13:20.905958",
          "exception": false,
          "start_time": "2022-06-22T15:13:20.888820",
          "status": "completed"
        },
        "tags": [],
        "id": "7d0b85fa"
      },
      "outputs": [],
      "source": [
        "DATA_PATH = \"/content/Fertilizer Prediction.csv\""
      ]
    },
    {
      "cell_type": "code",
      "execution_count": 6,
      "id": "48882eaa",
      "metadata": {
        "execution": {
          "iopub.execute_input": "2022-06-22T15:13:20.925498Z",
          "iopub.status.busy": "2022-06-22T15:13:20.925069Z",
          "iopub.status.idle": "2022-06-22T15:13:20.964128Z",
          "shell.execute_reply": "2022-06-22T15:13:20.962973Z"
        },
        "papermill": {
          "duration": 0.052037,
          "end_time": "2022-06-22T15:13:20.966690",
          "exception": false,
          "start_time": "2022-06-22T15:13:20.914653",
          "status": "completed"
        },
        "tags": [],
        "colab": {
          "base_uri": "https://localhost:8080/",
          "height": 206
        },
        "id": "48882eaa",
        "outputId": "ea19058e-68e3-4a01-b07f-1fe2811ea6c0"
      },
      "outputs": [
        {
          "output_type": "execute_result",
          "data": {
            "text/plain": [
              "   Temparature  Humidity   Moisture Soil Type  Crop Type  Nitrogen  Potassium  \\\n",
              "0           26         52        38     Sandy      Maize        37          0   \n",
              "1           29         52        45     Loamy  Sugarcane        12          0   \n",
              "2           34         65        62     Black     Cotton         7          9   \n",
              "3           32         62        34       Red    Tobacco        22          0   \n",
              "4           28         54        46    Clayey      Paddy        35          0   \n",
              "\n",
              "   Phosphorous Fertilizer Name  \n",
              "0            0            Urea  \n",
              "1           36             DAP  \n",
              "2           30        14-35-14  \n",
              "3           20           28-28  \n",
              "4            0            Urea  "
            ],
            "text/html": [
              "\n",
              "  <div id=\"df-83c340b4-b38d-47b5-b5d4-787fd77e1d25\">\n",
              "    <div class=\"colab-df-container\">\n",
              "      <div>\n",
              "<style scoped>\n",
              "    .dataframe tbody tr th:only-of-type {\n",
              "        vertical-align: middle;\n",
              "    }\n",
              "\n",
              "    .dataframe tbody tr th {\n",
              "        vertical-align: top;\n",
              "    }\n",
              "\n",
              "    .dataframe thead th {\n",
              "        text-align: right;\n",
              "    }\n",
              "</style>\n",
              "<table border=\"1\" class=\"dataframe\">\n",
              "  <thead>\n",
              "    <tr style=\"text-align: right;\">\n",
              "      <th></th>\n",
              "      <th>Temparature</th>\n",
              "      <th>Humidity</th>\n",
              "      <th>Moisture</th>\n",
              "      <th>Soil Type</th>\n",
              "      <th>Crop Type</th>\n",
              "      <th>Nitrogen</th>\n",
              "      <th>Potassium</th>\n",
              "      <th>Phosphorous</th>\n",
              "      <th>Fertilizer Name</th>\n",
              "    </tr>\n",
              "  </thead>\n",
              "  <tbody>\n",
              "    <tr>\n",
              "      <th>0</th>\n",
              "      <td>26</td>\n",
              "      <td>52</td>\n",
              "      <td>38</td>\n",
              "      <td>Sandy</td>\n",
              "      <td>Maize</td>\n",
              "      <td>37</td>\n",
              "      <td>0</td>\n",
              "      <td>0</td>\n",
              "      <td>Urea</td>\n",
              "    </tr>\n",
              "    <tr>\n",
              "      <th>1</th>\n",
              "      <td>29</td>\n",
              "      <td>52</td>\n",
              "      <td>45</td>\n",
              "      <td>Loamy</td>\n",
              "      <td>Sugarcane</td>\n",
              "      <td>12</td>\n",
              "      <td>0</td>\n",
              "      <td>36</td>\n",
              "      <td>DAP</td>\n",
              "    </tr>\n",
              "    <tr>\n",
              "      <th>2</th>\n",
              "      <td>34</td>\n",
              "      <td>65</td>\n",
              "      <td>62</td>\n",
              "      <td>Black</td>\n",
              "      <td>Cotton</td>\n",
              "      <td>7</td>\n",
              "      <td>9</td>\n",
              "      <td>30</td>\n",
              "      <td>14-35-14</td>\n",
              "    </tr>\n",
              "    <tr>\n",
              "      <th>3</th>\n",
              "      <td>32</td>\n",
              "      <td>62</td>\n",
              "      <td>34</td>\n",
              "      <td>Red</td>\n",
              "      <td>Tobacco</td>\n",
              "      <td>22</td>\n",
              "      <td>0</td>\n",
              "      <td>20</td>\n",
              "      <td>28-28</td>\n",
              "    </tr>\n",
              "    <tr>\n",
              "      <th>4</th>\n",
              "      <td>28</td>\n",
              "      <td>54</td>\n",
              "      <td>46</td>\n",
              "      <td>Clayey</td>\n",
              "      <td>Paddy</td>\n",
              "      <td>35</td>\n",
              "      <td>0</td>\n",
              "      <td>0</td>\n",
              "      <td>Urea</td>\n",
              "    </tr>\n",
              "  </tbody>\n",
              "</table>\n",
              "</div>\n",
              "      <button class=\"colab-df-convert\" onclick=\"convertToInteractive('df-83c340b4-b38d-47b5-b5d4-787fd77e1d25')\"\n",
              "              title=\"Convert this dataframe to an interactive table.\"\n",
              "              style=\"display:none;\">\n",
              "        \n",
              "  <svg xmlns=\"http://www.w3.org/2000/svg\" height=\"24px\"viewBox=\"0 0 24 24\"\n",
              "       width=\"24px\">\n",
              "    <path d=\"M0 0h24v24H0V0z\" fill=\"none\"/>\n",
              "    <path d=\"M18.56 5.44l.94 2.06.94-2.06 2.06-.94-2.06-.94-.94-2.06-.94 2.06-2.06.94zm-11 1L8.5 8.5l.94-2.06 2.06-.94-2.06-.94L8.5 2.5l-.94 2.06-2.06.94zm10 10l.94 2.06.94-2.06 2.06-.94-2.06-.94-.94-2.06-.94 2.06-2.06.94z\"/><path d=\"M17.41 7.96l-1.37-1.37c-.4-.4-.92-.59-1.43-.59-.52 0-1.04.2-1.43.59L10.3 9.45l-7.72 7.72c-.78.78-.78 2.05 0 2.83L4 21.41c.39.39.9.59 1.41.59.51 0 1.02-.2 1.41-.59l7.78-7.78 2.81-2.81c.8-.78.8-2.07 0-2.86zM5.41 20L4 18.59l7.72-7.72 1.47 1.35L5.41 20z\"/>\n",
              "  </svg>\n",
              "      </button>\n",
              "      \n",
              "  <style>\n",
              "    .colab-df-container {\n",
              "      display:flex;\n",
              "      flex-wrap:wrap;\n",
              "      gap: 12px;\n",
              "    }\n",
              "\n",
              "    .colab-df-convert {\n",
              "      background-color: #E8F0FE;\n",
              "      border: none;\n",
              "      border-radius: 50%;\n",
              "      cursor: pointer;\n",
              "      display: none;\n",
              "      fill: #1967D2;\n",
              "      height: 32px;\n",
              "      padding: 0 0 0 0;\n",
              "      width: 32px;\n",
              "    }\n",
              "\n",
              "    .colab-df-convert:hover {\n",
              "      background-color: #E2EBFA;\n",
              "      box-shadow: 0px 1px 2px rgba(60, 64, 67, 0.3), 0px 1px 3px 1px rgba(60, 64, 67, 0.15);\n",
              "      fill: #174EA6;\n",
              "    }\n",
              "\n",
              "    [theme=dark] .colab-df-convert {\n",
              "      background-color: #3B4455;\n",
              "      fill: #D2E3FC;\n",
              "    }\n",
              "\n",
              "    [theme=dark] .colab-df-convert:hover {\n",
              "      background-color: #434B5C;\n",
              "      box-shadow: 0px 1px 3px 1px rgba(0, 0, 0, 0.15);\n",
              "      filter: drop-shadow(0px 1px 2px rgba(0, 0, 0, 0.3));\n",
              "      fill: #FFFFFF;\n",
              "    }\n",
              "  </style>\n",
              "\n",
              "      <script>\n",
              "        const buttonEl =\n",
              "          document.querySelector('#df-83c340b4-b38d-47b5-b5d4-787fd77e1d25 button.colab-df-convert');\n",
              "        buttonEl.style.display =\n",
              "          google.colab.kernel.accessAllowed ? 'block' : 'none';\n",
              "\n",
              "        async function convertToInteractive(key) {\n",
              "          const element = document.querySelector('#df-83c340b4-b38d-47b5-b5d4-787fd77e1d25');\n",
              "          const dataTable =\n",
              "            await google.colab.kernel.invokeFunction('convertToInteractive',\n",
              "                                                     [key], {});\n",
              "          if (!dataTable) return;\n",
              "\n",
              "          const docLinkHtml = 'Like what you see? Visit the ' +\n",
              "            '<a target=\"_blank\" href=https://colab.research.google.com/notebooks/data_table.ipynb>data table notebook</a>'\n",
              "            + ' to learn more about interactive tables.';\n",
              "          element.innerHTML = '';\n",
              "          dataTable['output_type'] = 'display_data';\n",
              "          await google.colab.output.renderOutput(dataTable, element);\n",
              "          const docLink = document.createElement('div');\n",
              "          docLink.innerHTML = docLinkHtml;\n",
              "          element.appendChild(docLink);\n",
              "        }\n",
              "      </script>\n",
              "    </div>\n",
              "  </div>\n",
              "  "
            ]
          },
          "metadata": {},
          "execution_count": 6
        }
      ],
      "source": [
        "data = pd.read_csv(DATA_PATH)\n",
        "data.head()"
      ]
    },
    {
      "cell_type": "code",
      "execution_count": 7,
      "id": "a16de34c",
      "metadata": {
        "execution": {
          "iopub.execute_input": "2022-06-22T15:13:20.986769Z",
          "iopub.status.busy": "2022-06-22T15:13:20.986362Z",
          "iopub.status.idle": "2022-06-22T15:13:21.000804Z",
          "shell.execute_reply": "2022-06-22T15:13:20.999533Z"
        },
        "papermill": {
          "duration": 0.027556,
          "end_time": "2022-06-22T15:13:21.003248",
          "exception": false,
          "start_time": "2022-06-22T15:13:20.975692",
          "status": "completed"
        },
        "tags": [],
        "colab": {
          "base_uri": "https://localhost:8080/"
        },
        "id": "a16de34c",
        "outputId": "c883d6a6-0eae-4fcd-b1f9-e79dcafa8798"
      },
      "outputs": [
        {
          "output_type": "execute_result",
          "data": {
            "text/plain": [
              "array(['Urea', 'DAP', '14-35-14', '28-28', '17-17-17', '20-20',\n",
              "       '10-26-26'], dtype=object)"
            ]
          },
          "metadata": {},
          "execution_count": 7
        }
      ],
      "source": [
        "data[\"Fertilizer Name\"].unique()"
      ]
    },
    {
      "cell_type": "code",
      "execution_count": 8,
      "id": "08dd97fb",
      "metadata": {
        "execution": {
          "iopub.execute_input": "2022-06-22T15:13:21.022733Z",
          "iopub.status.busy": "2022-06-22T15:13:21.022353Z",
          "iopub.status.idle": "2022-06-22T15:13:21.029444Z",
          "shell.execute_reply": "2022-06-22T15:13:21.028266Z"
        },
        "papermill": {
          "duration": 0.019545,
          "end_time": "2022-06-22T15:13:21.031785",
          "exception": false,
          "start_time": "2022-06-22T15:13:21.012240",
          "status": "completed"
        },
        "tags": [],
        "colab": {
          "base_uri": "https://localhost:8080/"
        },
        "id": "08dd97fb",
        "outputId": "3aa2ec1d-1da7-40b1-f430-b752ed68bde0"
      },
      "outputs": [
        {
          "output_type": "execute_result",
          "data": {
            "text/plain": [
              "(99, 9)"
            ]
          },
          "metadata": {},
          "execution_count": 8
        }
      ],
      "source": [
        "data.shape"
      ]
    },
    {
      "cell_type": "code",
      "execution_count": 9,
      "id": "5746c87a",
      "metadata": {
        "execution": {
          "iopub.execute_input": "2022-06-22T15:13:21.052936Z",
          "iopub.status.busy": "2022-06-22T15:13:21.052562Z",
          "iopub.status.idle": "2022-06-22T15:13:21.060411Z",
          "shell.execute_reply": "2022-06-22T15:13:21.059251Z"
        },
        "papermill": {
          "duration": 0.021244,
          "end_time": "2022-06-22T15:13:21.062773",
          "exception": false,
          "start_time": "2022-06-22T15:13:21.041529",
          "status": "completed"
        },
        "tags": [],
        "colab": {
          "base_uri": "https://localhost:8080/"
        },
        "id": "5746c87a",
        "outputId": "f04f2057-de3c-4956-8ec8-a7f601ed9369"
      },
      "outputs": [
        {
          "output_type": "execute_result",
          "data": {
            "text/plain": [
              "array(['Sandy', 'Loamy', 'Black', 'Red', 'Clayey'], dtype=object)"
            ]
          },
          "metadata": {},
          "execution_count": 9
        }
      ],
      "source": [
        "data[\"Soil Type\"].unique()"
      ]
    },
    {
      "cell_type": "code",
      "execution_count": 10,
      "id": "a1e7ca7e",
      "metadata": {
        "execution": {
          "iopub.execute_input": "2022-06-22T15:13:21.083568Z",
          "iopub.status.busy": "2022-06-22T15:13:21.083182Z",
          "iopub.status.idle": "2022-06-22T15:13:21.090334Z",
          "shell.execute_reply": "2022-06-22T15:13:21.089465Z"
        },
        "papermill": {
          "duration": 0.020338,
          "end_time": "2022-06-22T15:13:21.092398",
          "exception": false,
          "start_time": "2022-06-22T15:13:21.072060",
          "status": "completed"
        },
        "tags": [],
        "colab": {
          "base_uri": "https://localhost:8080/"
        },
        "id": "a1e7ca7e",
        "outputId": "e0813d8d-534f-4457-c71d-9cd6d76f8739"
      },
      "outputs": [
        {
          "output_type": "execute_result",
          "data": {
            "text/plain": [
              "array(['Maize', 'Sugarcane', 'Cotton', 'Tobacco', 'Paddy', 'Barley',\n",
              "       'Wheat', 'Millets', 'Oil seeds', 'Pulses', 'Ground Nuts'],\n",
              "      dtype=object)"
            ]
          },
          "metadata": {},
          "execution_count": 10
        }
      ],
      "source": [
        "data[\"Crop Type\"].unique()"
      ]
    },
    {
      "cell_type": "code",
      "execution_count": 11,
      "id": "b0f25b30",
      "metadata": {
        "execution": {
          "iopub.execute_input": "2022-06-22T15:13:21.113033Z",
          "iopub.status.busy": "2022-06-22T15:13:21.112675Z",
          "iopub.status.idle": "2022-06-22T15:13:21.119207Z",
          "shell.execute_reply": "2022-06-22T15:13:21.118220Z"
        },
        "papermill": {
          "duration": 0.019441,
          "end_time": "2022-06-22T15:13:21.121259",
          "exception": false,
          "start_time": "2022-06-22T15:13:21.101818",
          "status": "completed"
        },
        "tags": [],
        "colab": {
          "base_uri": "https://localhost:8080/"
        },
        "id": "b0f25b30",
        "outputId": "e5069bdd-ca7f-47b1-f9ff-ce0a8a43b98d"
      },
      "outputs": [
        {
          "output_type": "execute_result",
          "data": {
            "text/plain": [
              "Index(['Temparature', 'Humidity ', 'Moisture', 'Soil Type', 'Crop Type',\n",
              "       'Nitrogen', 'Potassium', 'Phosphorous', 'Fertilizer Name'],\n",
              "      dtype='object')"
            ]
          },
          "metadata": {},
          "execution_count": 11
        }
      ],
      "source": [
        "data.columns"
      ]
    },
    {
      "cell_type": "code",
      "execution_count": 12,
      "id": "7625826f",
      "metadata": {
        "execution": {
          "iopub.execute_input": "2022-06-22T15:13:21.141781Z",
          "iopub.status.busy": "2022-06-22T15:13:21.141381Z",
          "iopub.status.idle": "2022-06-22T15:13:21.325260Z",
          "shell.execute_reply": "2022-06-22T15:13:21.323952Z"
        },
        "papermill": {
          "duration": 0.197286,
          "end_time": "2022-06-22T15:13:21.328044",
          "exception": false,
          "start_time": "2022-06-22T15:13:21.130758",
          "status": "completed"
        },
        "tags": [],
        "colab": {
          "base_uri": "https://localhost:8080/",
          "height": 320
        },
        "id": "7625826f",
        "outputId": "25e2c0de-bfd2-40eb-aaae-3beb0b59055e"
      },
      "outputs": [
        {
          "output_type": "display_data",
          "data": {
            "text/plain": [
              "<Figure size 648x360 with 1 Axes>"
            ],
            "image/png": "[encoded data removed]"
          },
          "metadata": {
            "needs_background": "light"
          }
        }
      ],
      "source": [
        "labels = data[\"Fertilizer Name\"].unique()\n",
        "counts = list(data[\"Fertilizer Name\"].value_counts())\n",
        "\n",
        "plt.figure(figsize = (9,5))\n",
        "plt.barh(labels, counts)\n",
        "  \n",
        "for index, value in enumerate(counts):\n",
        "    plt.text(value, index,\n",
        "             str(value))\n",
        "plt.show()"
      ]
    },
    {
      "cell_type": "code",
      "execution_count": 13,
      "id": "0abfdfc3",
      "metadata": {
        "execution": {
          "iopub.execute_input": "2022-06-22T15:13:21.350062Z",
          "iopub.status.busy": "2022-06-22T15:13:21.349655Z",
          "iopub.status.idle": "2022-06-22T15:13:21.354862Z",
          "shell.execute_reply": "2022-06-22T15:13:21.353688Z"
        },
        "papermill": {
          "duration": 0.019016,
          "end_time": "2022-06-22T15:13:21.357070",
          "exception": false,
          "start_time": "2022-06-22T15:13:21.338054",
          "status": "completed"
        },
        "tags": [],
        "id": "0abfdfc3"
      },
      "outputs": [],
      "source": [
        "continuous_data_cols = [\"Temparature\", \"Humidity \", \"Moisture\", \"Nitrogen\", \"Phosphorous\"]\n",
        "categorical_data_cols = [\"Soil Type\", \"Crop Type\"]"
      ]
    },
    {
      "cell_type": "code",
      "execution_count": 14,
      "id": "9cd15aee",
      "metadata": {
        "execution": {
          "iopub.execute_input": "2022-06-22T15:13:21.379440Z",
          "iopub.status.busy": "2022-06-22T15:13:21.378369Z",
          "iopub.status.idle": "2022-06-22T15:13:22.171948Z",
          "shell.execute_reply": "2022-06-22T15:13:22.171029Z"
        },
        "papermill": {
          "duration": 0.807464,
          "end_time": "2022-06-22T15:13:22.174359",
          "exception": false,
          "start_time": "2022-06-22T15:13:21.366895",
          "status": "completed"
        },
        "tags": [],
        "colab": {
          "base_uri": "https://localhost:8080/",
          "height": 1000
        },
        "id": "9cd15aee",
        "outputId": "806ccc7e-97be-4117-e029-acda9638818e"
      },
      "outputs": [
        {
          "output_type": "display_data",
          "data": {
            "text/plain": [
              "<Figure size 1080x936 with 4 Axes>"
            ],
            "image/png": "[encoded data removed]"
          },
          "metadata": {
            "needs_background": "light"
          }
        },
        {
          "output_type": "display_data",
          "data": {
            "text/plain": [
              "<Figure size 432x288 with 1 Axes>"
            ],
            "image/png": "[encoded data removed]"
          },
          "metadata": {
            "needs_background": "light"
          }
        }
      ],
      "source": [
        "plt.figure(figsize=(15,13))\n",
        "i = 1\n",
        "for column in continuous_data_cols[:-1]:\n",
        "    plt.subplot(2,2,i)\n",
        "    sns.histplot(data[column])\n",
        "    i+=1\n",
        "plt.show()\n",
        "\n",
        "sns.histplot(data[continuous_data_cols[-1]])\n",
        "plt.show()"
      ]
    }
  ],
  "metadata": {
    "kernelspec": {
      "display_name": "Python 3",
      "language": "python",
      "name": "python3"
    },
    "language_info": {
      "codemirror_mode": {
        "name": "ipython",
        "version": 3
      },
      "file_extension": ".py",
      "mimetype": "text/x-python",
      "name": "python",
      "nbconvert_exporter": "python",
      "pygments_lexer": "ipython3",
      "version": "3.7.12"
    },
    "papermill": {
      "default_parameters": {},
      "duration": 28.355067,
      "end_time": "2022-06-22T15:13:36.674880",
      "environment_variables": {},
      "exception": null,
      "input_path": "__notebook__.ipynb",
      "output_path": "__notebook__.ipynb",
      "parameters": {},
      "start_time": "2022-06-22T15:13:08.319813",
      "version": "2.3.4"
    },
    "colab": {
      "provenance": []
    }
  },
  "nbformat": 4,
  "nbformat_minor": 5
}